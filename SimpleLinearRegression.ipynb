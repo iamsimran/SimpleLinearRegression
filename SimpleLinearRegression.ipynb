{
  "nbformat": 4,
  "nbformat_minor": 0,
  "metadata": {
    "colab": {
      "name": "SimpleLinearRegression.ipynb",
      "provenance": [],
      "collapsed_sections": []
    },
    "kernelspec": {
      "name": "python3",
      "display_name": "Python 3"
    }
  },
  "cells": [
    {
      "cell_type": "markdown",
      "metadata": {
        "id": "Kct_WiMsRM3-",
        "colab_type": "text"
      },
      "source": [
        "#Linear Regression with sklearn\n",
        "#####In this notebook, we will implement Linear Regression using Hours studied vs percentage scored dataset."
      ]
    },
    {
      "cell_type": "markdown",
      "metadata": {
        "id": "pxb4VzZ3RrmL",
        "colab_type": "text"
      },
      "source": [
        "##**Simple Linear Regression**"
      ]
    },
    {
      "cell_type": "code",
      "metadata": {
        "id": "PLqlJa6pIMwx",
        "colab_type": "code",
        "colab": {}
      },
      "source": [
        "#importing necessary packages\n",
        "import pandas as pd\n",
        "import numpy as np\n",
        "from sklearn.linear_model import LinearRegression\n",
        "from sklearn.model_selection import train_test_split\n",
        "from sklearn.metrics import mean_absolute_error, mean_squared_error, r2_score\n",
        "import matplotlib.pyplot as plt\n",
        "%matplotlib inline"
      ],
      "execution_count": null,
      "outputs": []
    },
    {
      "cell_type": "code",
      "metadata": {
        "id": "AdXQNsSjIVos",
        "colab_type": "code",
        "colab": {
          "base_uri": "https://localhost:8080/",
          "height": 359
        },
        "outputId": "81f019b6-a31a-4de5-9ba7-65b577e5b634"
      },
      "source": [
        "#reading data from given url\n",
        "df = pd.read_csv('http://bit.ly/w-data')\n",
        "df.head(10)"
      ],
      "execution_count": null,
      "outputs": [
        {
          "output_type": "execute_result",
          "data": {
            "text/html": [
              "<div>\n",
              "<style scoped>\n",
              "    .dataframe tbody tr th:only-of-type {\n",
              "        vertical-align: middle;\n",
              "    }\n",
              "\n",
              "    .dataframe tbody tr th {\n",
              "        vertical-align: top;\n",
              "    }\n",
              "\n",
              "    .dataframe thead th {\n",
              "        text-align: right;\n",
              "    }\n",
              "</style>\n",
              "<table border=\"1\" class=\"dataframe\">\n",
              "  <thead>\n",
              "    <tr style=\"text-align: right;\">\n",
              "      <th></th>\n",
              "      <th>Hours</th>\n",
              "      <th>Scores</th>\n",
              "    </tr>\n",
              "  </thead>\n",
              "  <tbody>\n",
              "    <tr>\n",
              "      <th>0</th>\n",
              "      <td>2.5</td>\n",
              "      <td>21</td>\n",
              "    </tr>\n",
              "    <tr>\n",
              "      <th>1</th>\n",
              "      <td>5.1</td>\n",
              "      <td>47</td>\n",
              "    </tr>\n",
              "    <tr>\n",
              "      <th>2</th>\n",
              "      <td>3.2</td>\n",
              "      <td>27</td>\n",
              "    </tr>\n",
              "    <tr>\n",
              "      <th>3</th>\n",
              "      <td>8.5</td>\n",
              "      <td>75</td>\n",
              "    </tr>\n",
              "    <tr>\n",
              "      <th>4</th>\n",
              "      <td>3.5</td>\n",
              "      <td>30</td>\n",
              "    </tr>\n",
              "    <tr>\n",
              "      <th>5</th>\n",
              "      <td>1.5</td>\n",
              "      <td>20</td>\n",
              "    </tr>\n",
              "    <tr>\n",
              "      <th>6</th>\n",
              "      <td>9.2</td>\n",
              "      <td>88</td>\n",
              "    </tr>\n",
              "    <tr>\n",
              "      <th>7</th>\n",
              "      <td>5.5</td>\n",
              "      <td>60</td>\n",
              "    </tr>\n",
              "    <tr>\n",
              "      <th>8</th>\n",
              "      <td>8.3</td>\n",
              "      <td>81</td>\n",
              "    </tr>\n",
              "    <tr>\n",
              "      <th>9</th>\n",
              "      <td>2.7</td>\n",
              "      <td>25</td>\n",
              "    </tr>\n",
              "  </tbody>\n",
              "</table>\n",
              "</div>"
            ],
            "text/plain": [
              "   Hours  Scores\n",
              "0    2.5      21\n",
              "1    5.1      47\n",
              "2    3.2      27\n",
              "3    8.5      75\n",
              "4    3.5      30\n",
              "5    1.5      20\n",
              "6    9.2      88\n",
              "7    5.5      60\n",
              "8    8.3      81\n",
              "9    2.7      25"
            ]
          },
          "metadata": {
            "tags": []
          },
          "execution_count": 72
        }
      ]
    },
    {
      "cell_type": "code",
      "metadata": {
        "id": "FAn7TpgJKj06",
        "colab_type": "code",
        "colab": {
          "base_uri": "https://localhost:8080/",
          "height": 296
        },
        "outputId": "bd594dd0-f798-4f2a-9c64-f4e71f117495"
      },
      "source": [
        "#visualizing the dataset to look for any outliers\n",
        "\n",
        "df.plot(x='Hours',y='Scores',kind='scatter')"
      ],
      "execution_count": null,
      "outputs": [
        {
          "output_type": "execute_result",
          "data": {
            "text/plain": [
              "<matplotlib.axes._subplots.AxesSubplot at 0x7f9183951a20>"
            ]
          },
          "metadata": {
            "tags": []
          },
          "execution_count": 79
        },
        {
          "output_type": "display_data",
          "data": {
            "image/png": "[encoded data removed]",
            "text/plain": [
              "<Figure size 432x288 with 1 Axes>"
            ]
          },
          "metadata": {
            "tags": [],
            "needs_background": "light"
          }
        }
      ]
    },
    {
      "cell_type": "code",
      "metadata": {
        "id": "wNWVTiWV9v7z",
        "colab_type": "code",
        "colab": {
          "base_uri": "https://localhost:8080/",
          "height": 82
        },
        "outputId": "45989404-a254-4425-b3b4-5f3a6a93b245"
      },
      "source": [
        "df.corr().style.background_gradient(cmap='coolwarm')"
      ],
      "execution_count": null,
      "outputs": [
        {
          "output_type": "execute_result",
          "data": {
            "text/html": [
              "<style  type=\"text/css\" >\n",
              "    #T_1d188b58_f9c9_11ea_a10c_0242ac1c0002row0_col0 {\n",
              "            background-color:  #b40426;\n",
              "            color:  #f1f1f1;\n",
              "        }    #T_1d188b58_f9c9_11ea_a10c_0242ac1c0002row0_col1 {\n",
              "            background-color:  #3b4cc0;\n",
              "            color:  #f1f1f1;\n",
              "        }    #T_1d188b58_f9c9_11ea_a10c_0242ac1c0002row1_col0 {\n",
              "            background-color:  #3b4cc0;\n",
              "            color:  #f1f1f1;\n",
              "        }    #T_1d188b58_f9c9_11ea_a10c_0242ac1c0002row1_col1 {\n",
              "            background-color:  #b40426;\n",
              "            color:  #f1f1f1;\n",
              "        }</style><table id=\"T_1d188b58_f9c9_11ea_a10c_0242ac1c0002\" ><thead>    <tr>        <th class=\"blank level0\" ></th>        <th class=\"col_heading level0 col0\" >Hours</th>        <th class=\"col_heading level0 col1\" >Scores</th>    </tr></thead><tbody>\n",
              "                <tr>\n",
              "                        <th id=\"T_1d188b58_f9c9_11ea_a10c_0242ac1c0002level0_row0\" class=\"row_heading level0 row0\" >Hours</th>\n",
              "                        <td id=\"T_1d188b58_f9c9_11ea_a10c_0242ac1c0002row0_col0\" class=\"data row0 col0\" >1.000000</td>\n",
              "                        <td id=\"T_1d188b58_f9c9_11ea_a10c_0242ac1c0002row0_col1\" class=\"data row0 col1\" >0.976191</td>\n",
              "            </tr>\n",
              "            <tr>\n",
              "                        <th id=\"T_1d188b58_f9c9_11ea_a10c_0242ac1c0002level0_row1\" class=\"row_heading level0 row1\" >Scores</th>\n",
              "                        <td id=\"T_1d188b58_f9c9_11ea_a10c_0242ac1c0002row1_col0\" class=\"data row1 col0\" >0.976191</td>\n",
              "                        <td id=\"T_1d188b58_f9c9_11ea_a10c_0242ac1c0002row1_col1\" class=\"data row1 col1\" >1.000000</td>\n",
              "            </tr>\n",
              "    </tbody></table>"
            ],
            "text/plain": [
              "<pandas.io.formats.style.Styler at 0x7f9183100550>"
            ]
          },
          "metadata": {
            "tags": []
          },
          "execution_count": 84
        }
      ]
    },
    {
      "cell_type": "markdown",
      "metadata": {
        "id": "onhRlm1u-P4R",
        "colab_type": "text"
      },
      "source": [
        "#####**The scatter plot and correlation matrix above shows that Hours and Scores are linearly related.**\n",
        "\n"
      ]
    },
    {
      "cell_type": "markdown",
      "metadata": {
        "id": "x3GY3XoF-0fP",
        "colab_type": "text"
      },
      "source": [
        "##Prepping data for the linear regressor model"
      ]
    },
    {
      "cell_type": "code",
      "metadata": {
        "id": "cOZAK3bFJHd9",
        "colab_type": "code",
        "colab": {}
      },
      "source": [
        "#separating dependent and independent\n",
        "x= np.array(df.Hours).reshape(-1,1)\n",
        "y = np.array(df.Scores)"
      ],
      "execution_count": null,
      "outputs": []
    },
    {
      "cell_type": "code",
      "metadata": {
        "id": "x0qNB5EjTZzT",
        "colab_type": "code",
        "colab": {}
      },
      "source": [
        "#splitting dataset into test (20%) and training (80%)\n",
        "x_train,x_test,y_train,y_test = train_test_split(x,y,\n",
        "                                                 test_size=0.2,random_state=2)"
      ],
      "execution_count": null,
      "outputs": []
    },
    {
      "cell_type": "code",
      "metadata": {
        "id": "YEjSVw6vIig1",
        "colab_type": "code",
        "colab": {
          "base_uri": "https://localhost:8080/",
          "height": 34
        },
        "outputId": "b88e72c2-3a6f-47e9-ae8c-f7babdae8442"
      },
      "source": [
        "#initiating Linear regression model and training using training dataset\n",
        "lmodel = LinearRegression()\n",
        "lmodel.fit(x_train,y_train)"
      ],
      "execution_count": null,
      "outputs": [
        {
          "output_type": "execute_result",
          "data": {
            "text/plain": [
              "LinearRegression(copy_X=True, fit_intercept=True, n_jobs=None, normalize=False)"
            ]
          },
          "metadata": {
            "tags": []
          },
          "execution_count": 92
        }
      ]
    },
    {
      "cell_type": "code",
      "metadata": {
        "id": "ulWgZevEMrUX",
        "colab_type": "code",
        "colab": {}
      },
      "source": [
        "#predicting traning data to locate best fit line\n",
        "bfl = lmodel.predict(x)"
      ],
      "execution_count": null,
      "outputs": []
    },
    {
      "cell_type": "code",
      "metadata": {
        "id": "p9BrnuUUNGb6",
        "colab_type": "code",
        "colab": {
          "base_uri": "https://localhost:8080/",
          "height": 295
        },
        "outputId": "983813a3-32a4-4a44-9299-a97fca2ced37"
      },
      "source": [
        "#plotting best fit line along with original data scatter\n",
        "df.plot(x='Hours',y='Scores',kind='scatter')\n",
        "plt.plot(x,bfl)\n",
        "plt.title('Hours studied vs scores gained')\n",
        "plt.ylabel('Scores gained')\n",
        "plt.show()"
      ],
      "execution_count": null,
      "outputs": [
        {
          "output_type": "display_data",
          "data": {
            "image/png": "[encoded data removed]",
            "text/plain": [
              "<Figure size 432x288 with 1 Axes>"
            ]
          },
          "metadata": {
            "tags": [],
            "needs_background": "light"
          }
        }
      ]
    },
    {
      "cell_type": "code",
      "metadata": {
        "id": "t-DoNWk0OwqT",
        "colab_type": "code",
        "colab": {}
      },
      "source": [
        "#predicting y values using test x data\n",
        "y_pred = lmodel.predict(x_test) "
      ],
      "execution_count": null,
      "outputs": []
    },
    {
      "cell_type": "code",
      "metadata": {
        "id": "l8TD0b2VDPGj",
        "colab_type": "code",
        "colab": {
          "base_uri": "https://localhost:8080/",
          "height": 204
        },
        "outputId": "fea8e1c3-a0b8-49a4-b1d7-0d9051cc6d63"
      },
      "source": [
        "#comparing actual y values with predicted ones\n",
        "pd.DataFrame({'Hours':x_test.flatten(),'actual_scores':y_test,'predcited_scores':y_pred})"
      ],
      "execution_count": null,
      "outputs": [
        {
          "output_type": "execute_result",
          "data": {
            "text/html": [
              "<div>\n",
              "<style scoped>\n",
              "    .dataframe tbody tr th:only-of-type {\n",
              "        vertical-align: middle;\n",
              "    }\n",
              "\n",
              "    .dataframe tbody tr th {\n",
              "        vertical-align: top;\n",
              "    }\n",
              "\n",
              "    .dataframe thead th {\n",
              "        text-align: right;\n",
              "    }\n",
              "</style>\n",
              "<table border=\"1\" class=\"dataframe\">\n",
              "  <thead>\n",
              "    <tr style=\"text-align: right;\">\n",
              "      <th></th>\n",
              "      <th>Hours</th>\n",
              "      <th>actual_scores</th>\n",
              "      <th>predcited_scores</th>\n",
              "    </tr>\n",
              "  </thead>\n",
              "  <tbody>\n",
              "    <tr>\n",
              "      <th>0</th>\n",
              "      <td>1.1</td>\n",
              "      <td>17</td>\n",
              "      <td>12.442587</td>\n",
              "    </tr>\n",
              "    <tr>\n",
              "      <th>1</th>\n",
              "      <td>2.5</td>\n",
              "      <td>21</td>\n",
              "      <td>26.359448</td>\n",
              "    </tr>\n",
              "    <tr>\n",
              "      <th>2</th>\n",
              "      <td>1.9</td>\n",
              "      <td>24</td>\n",
              "      <td>20.395079</td>\n",
              "    </tr>\n",
              "    <tr>\n",
              "      <th>3</th>\n",
              "      <td>9.2</td>\n",
              "      <td>88</td>\n",
              "      <td>92.961570</td>\n",
              "    </tr>\n",
              "    <tr>\n",
              "      <th>4</th>\n",
              "      <td>6.9</td>\n",
              "      <td>76</td>\n",
              "      <td>70.098155</td>\n",
              "    </tr>\n",
              "  </tbody>\n",
              "</table>\n",
              "</div>"
            ],
            "text/plain": [
              "   Hours  actual_scores  predcited_scores\n",
              "0    1.1             17         12.442587\n",
              "1    2.5             21         26.359448\n",
              "2    1.9             24         20.395079\n",
              "3    9.2             88         92.961570\n",
              "4    6.9             76         70.098155"
            ]
          },
          "metadata": {
            "tags": []
          },
          "execution_count": 109
        }
      ]
    },
    {
      "cell_type": "code",
      "metadata": {
        "id": "6xprQhTmFaLi",
        "colab_type": "code",
        "colab": {
          "base_uri": "https://localhost:8080/",
          "height": 34
        },
        "outputId": "77a750fb-f5da-4cf7-9b33-a88982f9369a"
      },
      "source": [
        "#predicting the scores for 9.25 hours of study\n",
        "\n",
        "st_hr = np.array(9.25).reshape(1,-1)\n",
        "sc_pr = lmodel.predict(st_hr)\n",
        "\n",
        "print ('With Study time of {} hours, model predicts {} percent of scores can be achieved.'.format(st_hr[0][0],round(sc_pr[0],2)))"
      ],
      "execution_count": null,
      "outputs": [
        {
          "output_type": "stream",
          "text": [
            "With Study time of 9.25 hours, model predicts 93.46 percent of scores can be achieved.\n"
          ],
          "name": "stdout"
        }
      ]
    },
    {
      "cell_type": "markdown",
      "metadata": {
        "id": "RREIF4ReGeSq",
        "colab_type": "text"
      },
      "source": [
        "##Model Evaluation"
      ]
    },
    {
      "cell_type": "code",
      "metadata": {
        "id": "3XqTWrMFGdPz",
        "colab_type": "code",
        "colab": {
          "base_uri": "https://localhost:8080/",
          "height": 68
        },
        "outputId": "b125e73b-afc4-4f42-94e1-3838766db7d8"
      },
      "source": [
        "#evaluating model with different evaluation techniques\n",
        "\n",
        "print ('Mean Absolute error: ',mean_absolute_error(y_test,y_pred))\n",
        "print ('Root Mean Squared error: ',np.sqrt(mean_squared_error(y_test,y_pred)))\n",
        "print ('R2 Score: ',r2_score(y_test,y_pred))"
      ],
      "execution_count": null,
      "outputs": [
        {
          "output_type": "stream",
          "text": [
            "Mean Absolute error:  4.877039354964476\n",
            "Root Mean Squared error:  4.9383823606376005\n",
            "R2 Score:  0.9735538080811826\n"
          ],
          "name": "stdout"
        }
      ]
    }
  ]
}